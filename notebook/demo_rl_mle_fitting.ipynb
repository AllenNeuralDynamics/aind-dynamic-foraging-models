{
 "cells": [
  {
   "cell_type": "markdown",
   "metadata": {},
   "source": [
    "# Reinforcement learning models for the dynamic foraging task"
   ]
  },
  {
   "cell_type": "code",
   "execution_count": 2,
   "metadata": {},
   "outputs": [],
   "source": [
    "import numpy as np\n",
    "\n",
    "from aind_dynamic_foraging_models.rl_model.agents import ForagerModel, forager_Bari2019\n",
    "from aind_dynamic_foraging_models.rl_model.dynamic_foraging_tasks.coupled_block import CoupledBlocks"
   ]
  },
  {
   "cell_type": "markdown",
   "metadata": {},
   "source": [
    "Set up task"
   ]
  },
  {
   "cell_type": "code",
   "execution_count": 3,
   "metadata": {},
   "outputs": [],
   "source": [
    "task = CoupledBlocks(K_arm=2, n_trials=1000, if_baited=True, seed='')\n",
    "task.reset()\n",
    "task.generate_p_reward(block_size_base=80, block_size_sd=20, p_reward_pairs=[(0.8, 0.2), (0.2, 0.8)])"
   ]
  },
  {
   "cell_type": "markdown",
   "metadata": {},
   "source": [
    "Set up agent"
   ]
  },
  {
   "cell_type": "code",
   "execution_count": 4,
   "metadata": {},
   "outputs": [],
   "source": [
    "agent = forager_Bari2019(fit_choice_kernel=True)\n",
    "agent.reset()\n",
    "agent.set_fitparams_values(agent.fit_std_values)"
   ]
  },
  {
   "cell_type": "markdown",
   "metadata": {},
   "source": [
    "Perform the task"
   ]
  },
  {
   "cell_type": "code",
   "execution_count": 5,
   "metadata": {},
   "outputs": [],
   "source": [
    "agent.perform_task(task)"
   ]
  },
  {
   "cell_type": "code",
   "execution_count": 6,
   "metadata": {},
   "outputs": [
    {
     "data": {
      "text/plain": [
       "<Axes: >"
      ]
     },
     "execution_count": 6,
     "metadata": {},
     "output_type": "execute_result"
    }
   ],
   "source": [
    "agent.plot_session_lightweight()"
   ]
  },
  {
   "cell_type": "markdown",
   "metadata": {},
   "source": [
    "Parameter recovery"
   ]
  },
  {
   "cell_type": "code",
   "execution_count": 7,
   "metadata": {},
   "outputs": [
    {
     "data": {
      "text/plain": [
       "             message: Optimization terminated successfully.\n",
       "             success: True\n",
       "                 fun: 60.83742747495445\n",
       "                   x: [ 6.290e-01  2.859e-01  4.944e-01  3.327e-02\n",
       "                        3.273e-01]\n",
       "                 nit: 23\n",
       "                nfev: 2004\n",
       "          population: [[ 6.227e-01  2.901e-01 ...  4.649e-02  3.308e-01]\n",
       "                       [ 5.818e-01  2.475e-01 ...  8.488e-02  3.971e-01]\n",
       "                       ...\n",
       "                       [ 6.071e-01  2.582e-01 ...  1.597e-02  4.731e-01]\n",
       "                       [ 5.676e-01  2.880e-01 ...  2.736e-01  2.894e-01]]\n",
       " population_energies: [ 6.084e+01  6.194e+01 ...  6.158e+01  6.186e+01]\n",
       "                 jac: [-1.532e-03 -1.253e-03  2.206e-03  6.970e-04\n",
       "                        1.426e-03]\n",
       "             k_model: 5\n",
       "            n_trials: 1001\n",
       "      log_likelihood: -60.83742747495445\n",
       "                 AIC: 131.6748549499089\n",
       "                 BIC: 156.218628846485\n",
       "                 LPT: 0.9410333953394151\n",
       "             LPT_AIC: 0.9363446487342955\n",
       "             LPT_BIC: 0.9249354912043904"
      ]
     },
     "execution_count": 7,
     "metadata": {},
     "output_type": "execute_result"
    }
   ],
   "source": [
    "agent.fit_history(agent.choice_history, agent.reward_history)"
   ]
  },
  {
   "cell_type": "markdown",
   "metadata": {},
   "source": [
    "Ground truth"
   ]
  },
  {
   "cell_type": "code",
   "execution_count": 8,
   "metadata": {},
   "outputs": [
    {
     "data": {
      "text/plain": [
       "[0.5, 0.3, 0.5, 0.1, 0.3]"
      ]
     },
     "execution_count": 8,
     "metadata": {},
     "output_type": "execute_result"
    }
   ],
   "source": [
    "agent.get_fitparams_values()"
   ]
  }
 ],
 "metadata": {
  "kernelspec": {
   "display_name": "base",
   "language": "python",
   "name": "python3"
  },
  "language_info": {
   "codemirror_mode": {
    "name": "ipython",
    "version": 3
   },
   "file_extension": ".py",
   "mimetype": "text/x-python",
   "name": "python",
   "nbconvert_exporter": "python",
   "pygments_lexer": "ipython3",
   "version": "3.9.12"
  },
  "vscode": {
   "interpreter": {
    "hash": "d4d1e4263499bec80672ea0156c357c1ee493ec2b1c70f0acce89fc37c4a6abe"
   }
  }
 },
 "nbformat": 4,
 "nbformat_minor": 2
}
